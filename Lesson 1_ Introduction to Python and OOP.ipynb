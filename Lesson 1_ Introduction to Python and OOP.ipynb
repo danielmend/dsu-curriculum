{
 "cells": [
  {
   "cell_type": "markdown",
   "metadata": {
    "id": "dljx2UsXUOMk"
   },
   "source": [
    "# Lesson 1: Introduction to Python and Object Oriented Programming (OOP)\n",
    "\n",
    "In order to use this file, please do the following:\n",
    "*   Go to the top left corner of Google Colab and click  `File -> Save a copy in Drive`"
   ]
  },
  {
   "cell_type": "markdown",
   "metadata": {
    "id": "ugrYCWvag1yy"
   },
   "source": [
    "Here's a rough overview of our plan for the weekly curriculum:\n",
    "\n",
    "* **Week 2: Introduction to Python and OOP**\n",
    "* Week 3: How to Code Like a Pro\n",
    "* Week 4: Data Preparation and Cleaning\n",
    "* Week 5: Data Visualization and Exploratory Data Analysis\n",
    "* Week 6: Miscallenous Topics: Command Line, Pathing, and GitHub\n",
    "* Week 7: Introduction to Machine Learning\n",
    "* Week 8: Advanced Topics in Machine Learning\n",
    "* Week 9: How to Succeed Going Forward"
   ]
  },
  {
   "cell_type": "markdown",
   "metadata": {
    "id": "Hi2uw83hKcS1"
   },
   "source": [
    "Additionally, here is what you can expect in terms of assignments during curriculum this quarter:\n",
    "* Homework 1: Assigned during Week 3, due by April 20th at 6PM\n",
    "* Homework 2: Assigned during Week 4, due by April 27th at 6PM\n",
    "* Mid-quarter assignment: Assigned during Week 5, due by May 11th at 6PM\n",
    "* EDA Contest: Assigned during Week 7, due by May 24th at 11PM\n",
    "\n",
    "These assignments will be important to reinforce understanding of various concepts introduced throughout this curriculum, but we do not intend for them to take obscene amounts of time. We will always be available on Slack throughout the quarter to answer any questions that may arise! We will share further details regarding each assignment later."
   ]
  },
  {
   "cell_type": "markdown",
   "metadata": {
    "id": "bCKNjhzVSFeN"
   },
   "source": [
    "Going forward, we will share all curriculum content and assignments via Google Drive. We'll also set up a folder for each of you to submit assignments."
   ]
  },
  {
   "cell_type": "markdown",
   "metadata": {
    "id": "Xn9EwhPJaJ4x"
   },
   "source": [
    "# Outline\n",
    "\n",
    "\n"
   ]
  },
  {
   "cell_type": "markdown",
   "metadata": {
    "id": "y9s9aK__lOkn"
   },
   "source": [
    "1. What is Python?\n",
    "  * \"The basics\"\n",
    "  * If statements\n",
    "  * Lists & dicts\n",
    "  * Loops & list comprehension\n",
    "  * Functions\n",
    "2. What is OOP?\n",
    "  * Objects\n",
    "  * Methods\n",
    "  * Attributes\n",
    "3. Objects in Python\n",
    "  * Basic data types (int, string, float)\n",
    "  * Built-in data structures (lists, dicts, tuples)\n",
    "  * Custom objects (classes)"
   ]
  },
  {
   "cell_type": "markdown",
   "metadata": {
    "id": "QsuAWBmqhiE1"
   },
   "source": [
    "Without further ado, let's begin!"
   ]
  },
  {
   "cell_type": "markdown",
   "metadata": {
    "id": "QjATOYb1Ytd9"
   },
   "source": [
    "# What is Python?"
   ]
  },
  {
   "cell_type": "markdown",
   "metadata": {
    "id": "_eaSytOkh5hH"
   },
   "source": [
    "* \"The best programming language.\" - *Daniel*\n",
    "\n",
    "* \"The greatest programming language.\" - *Nick*\n",
    "\n",
    "* \"Far superior to R.\" - *Madison Kohls, DSU Executive Advisor*"
   ]
  },
  {
   "cell_type": "markdown",
   "metadata": {
    "id": "00ORnszil9ah"
   },
   "source": [
    "Python is a programming language with a wide range of applications. Due to its quick prototyping speed and convenience, it's very popular among data scientists who constantly need to prototype and try new ideas. It's held back because its runs code slower than some other programming languages like C++ and Java, but for the most part it's considered the go-to programming language for data science."
   ]
  },
  {
   "cell_type": "markdown",
   "metadata": {
    "id": "23jlidyilxTY"
   },
   "source": [
    "![Example python code from Daniel's code editor](https://media.discordapp.net/attachments/738679791804219442/959967183268626472/Screen_Shot_2022-04-02_at_5.06.00_PM.png)"
   ]
  },
  {
   "cell_type": "markdown",
   "metadata": {
    "id": "hIw8eoXyvyB2"
   },
   "source": [
    "Example Python code from Daniel's code editor (notice the serif font, used by only the most esteemed programmers)"
   ]
  },
  {
   "cell_type": "markdown",
   "metadata": {
    "id": "gW0j4IteWwHQ"
   },
   "source": [
    "# Python Basics"
   ]
  },
  {
   "cell_type": "markdown",
   "metadata": {
    "id": "DWELH3EqxGE4"
   },
   "source": [
    "## Basic operations and data types"
   ]
  },
  {
   "cell_type": "markdown",
   "metadata": {
    "id": "zEZZ6yi4MvnW"
   },
   "source": [
    "Basic Python operations work the way you think they do. Addition, subtraction, multiplication, and division are all incredibly intuitive."
   ]
  },
  {
   "cell_type": "code",
   "execution_count": 1,
   "metadata": {
    "colab": {
     "base_uri": "https://localhost:8080/"
    },
    "executionInfo": {
     "elapsed": 232,
     "status": "ok",
     "timestamp": 1649294935210,
     "user": {
      "displayName": "Nick Monozon",
      "userId": "11577195844974894501"
     },
     "user_tz": 420
    },
    "id": "I5JkFAamwhG7",
    "outputId": "8fca3ba0-026c-4222-9b77-0d41005135f4"
   },
   "outputs": [
    {
     "data": {
      "text/plain": [
       "4"
      ]
     },
     "execution_count": 1,
     "metadata": {},
     "output_type": "execute_result"
    }
   ],
   "source": [
    "2 + 2"
   ]
  },
  {
   "cell_type": "code",
   "execution_count": 2,
   "metadata": {
    "colab": {
     "base_uri": "https://localhost:8080/"
    },
    "executionInfo": {
     "elapsed": 11,
     "status": "ok",
     "timestamp": 1649208318661,
     "user": {
      "displayName": "Data Science Union",
      "userId": "02562009114063210910"
     },
     "user_tz": 420
    },
    "id": "br56crK1xecN",
    "outputId": "428cc7cf-3ba0-4d67-d9a3-1411f5b4bd64"
   },
   "outputs": [
    {
     "data": {
      "text/plain": [
       "69"
      ]
     },
     "execution_count": 2,
     "metadata": {},
     "output_type": "execute_result"
    }
   ],
   "source": [
    "100 - 31"
   ]
  },
  {
   "cell_type": "markdown",
   "metadata": {
    "id": "thWffEaZ7qgf"
   },
   "source": [
    "A common operator you should know about is the modulo (%) operator. It shows you the remainder when you divide the left by the right. "
   ]
  },
  {
   "cell_type": "code",
   "execution_count": 3,
   "metadata": {
    "colab": {
     "base_uri": "https://localhost:8080/"
    },
    "executionInfo": {
     "elapsed": 226,
     "status": "ok",
     "timestamp": 1649294958004,
     "user": {
      "displayName": "Nick Monozon",
      "userId": "11577195844974894501"
     },
     "user_tz": 420
    },
    "id": "1ZXr1l-tMXLG",
    "outputId": "e55f3987-ab06-411e-9d37-3fa9d5c852af"
   },
   "outputs": [
    {
     "data": {
      "text/plain": [
       "1"
      ]
     },
     "execution_count": 3,
     "metadata": {},
     "output_type": "execute_result"
    }
   ],
   "source": [
    "4 % 3"
   ]
  },
  {
   "cell_type": "markdown",
   "metadata": {
    "id": "ody-w-sEMM89"
   },
   "source": [
    "Exponentiation is a bit different in Python than you may be used to. Instead of using `^` to denote the exponent, Python uses `**`."
   ]
  },
  {
   "cell_type": "code",
   "execution_count": 4,
   "metadata": {
    "colab": {
     "base_uri": "https://localhost:8080/"
    },
    "executionInfo": {
     "elapsed": 291,
     "status": "ok",
     "timestamp": 1649294974316,
     "user": {
      "displayName": "Nick Monozon",
      "userId": "11577195844974894501"
     },
     "user_tz": 420
    },
    "id": "0s3fvFkAMduF",
    "outputId": "5518d816-371f-4597-9bc2-2f666070cc8a"
   },
   "outputs": [
    {
     "data": {
      "text/plain": [
       "9"
      ]
     },
     "execution_count": 4,
     "metadata": {},
     "output_type": "execute_result"
    }
   ],
   "source": [
    "3**2"
   ]
  },
  {
   "cell_type": "markdown",
   "metadata": {
    "id": "us5XMr8ZAUZk"
   },
   "source": [
    "Note that we can also work with decimals (known as *floats* in Python) by simply writing them out. Internally speaking, 1 is different than 1.0 to the Python compiler, as 1 is stored as an *integer* and 1.0 is stored as a *float*. "
   ]
  },
  {
   "cell_type": "code",
   "execution_count": 5,
   "metadata": {
    "colab": {
     "base_uri": "https://localhost:8080/"
    },
    "executionInfo": {
     "elapsed": 374,
     "status": "ok",
     "timestamp": 1649294988463,
     "user": {
      "displayName": "Nick Monozon",
      "userId": "11577195844974894501"
     },
     "user_tz": 420
    },
    "id": "l8IkuIrmMs1V",
    "outputId": "c6bec0b0-566b-41fc-af96-d98d50c3f558"
   },
   "outputs": [
    {
     "data": {
      "text/plain": [
       "10.35"
      ]
     },
     "execution_count": 5,
     "metadata": {},
     "output_type": "execute_result"
    }
   ],
   "source": [
    "2.3 * 4.5"
   ]
  },
  {
   "cell_type": "markdown",
   "metadata": {
    "id": "O2WnBJvBxlNo"
   },
   "source": [
    "## Variables"
   ]
  },
  {
   "cell_type": "markdown",
   "metadata": {
    "id": "0ZBEH4TnOFBm"
   },
   "source": [
    "Variables help us store information. Here, we assigned the number 4 to the variable `my_variable`. We can also see which value is stored in a given variable by calling `print(my_variable)`."
   ]
  },
  {
   "cell_type": "code",
   "execution_count": 6,
   "metadata": {
    "colab": {
     "base_uri": "https://localhost:8080/"
    },
    "executionInfo": {
     "elapsed": 247,
     "status": "ok",
     "timestamp": 1649295065648,
     "user": {
      "displayName": "Nick Monozon",
      "userId": "11577195844974894501"
     },
     "user_tz": 420
    },
    "id": "wuUHj8dtxnBK",
    "outputId": "22aad98d-dc1a-4afe-d6f5-625745724f9b"
   },
   "outputs": [
    {
     "name": "stdout",
     "output_type": "stream",
     "text": [
      "4\n"
     ]
    }
   ],
   "source": [
    "my_variable = 4\n",
    "print(4)"
   ]
  },
  {
   "cell_type": "code",
   "execution_count": 7,
   "metadata": {
    "colab": {
     "base_uri": "https://localhost:8080/"
    },
    "executionInfo": {
     "elapsed": 156,
     "status": "ok",
     "timestamp": 1649295070129,
     "user": {
      "displayName": "Nick Monozon",
      "userId": "11577195844974894501"
     },
     "user_tz": 420
    },
    "id": "jmGoXNsiyQpO",
    "outputId": "5b5892a4-e208-456b-bcff-78e00fd65783"
   },
   "outputs": [
    {
     "name": "stdout",
     "output_type": "stream",
     "text": [
      "4\n"
     ]
    }
   ],
   "source": [
    "my_variable * 2\n",
    "print(my_variable)"
   ]
  },
  {
   "cell_type": "markdown",
   "metadata": {
    "id": "eoAApa9myTLW"
   },
   "source": [
    "### Question: Why did the value of my_variable not change?"
   ]
  },
  {
   "cell_type": "code",
   "execution_count": 8,
   "metadata": {
    "colab": {
     "base_uri": "https://localhost:8080/"
    },
    "executionInfo": {
     "elapsed": 136,
     "status": "ok",
     "timestamp": 1649295100603,
     "user": {
      "displayName": "Nick Monozon",
      "userId": "11577195844974894501"
     },
     "user_tz": 420
    },
    "id": "GZBQdMlkyX8J",
    "outputId": "a9b1347d-aa69-4de9-c98b-44c9e12a1e17"
   },
   "outputs": [
    {
     "name": "stdout",
     "output_type": "stream",
     "text": [
      "8\n"
     ]
    }
   ],
   "source": [
    "my_variable = my_variable * 2\n",
    "print(my_variable)"
   ]
  },
  {
   "cell_type": "markdown",
   "metadata": {
    "id": "iHmGmHekyi1Z"
   },
   "source": [
    "### Question: Why did the value of my_variable change?"
   ]
  },
  {
   "cell_type": "markdown",
   "metadata": {
    "id": "Zmm5cvJDVNMO"
   },
   "source": [
    "When printing the value of variables in Python, we often rely on **f-strings** to format our output in an intuitive way. The general form of an f-string is\n",
    "```\n",
    "f\"Some text here {var1}. Additional text here {var2}.\"\n",
    "```\n",
    "Variables can be of any types previously discussed. Consider the example below."
   ]
  },
  {
   "cell_type": "code",
   "execution_count": 9,
   "metadata": {
    "colab": {
     "base_uri": "https://localhost:8080/"
    },
    "executionInfo": {
     "elapsed": 163,
     "status": "ok",
     "timestamp": 1649295152314,
     "user": {
      "displayName": "Nick Monozon",
      "userId": "11577195844974894501"
     },
     "user_tz": 420
    },
    "id": "R_e5nKylV1xq",
    "outputId": "92bd5de6-5070-4ea5-a5af-69ba44c66f80"
   },
   "outputs": [
    {
     "name": "stdout",
     "output_type": "stream",
     "text": [
      "This is 20. He isNick years old.\n"
     ]
    }
   ],
   "source": [
    "name = \"Nick\"\n",
    "age = 20\n",
    "print(f\"This is {age}. He is{name} years old.\")"
   ]
  },
  {
   "cell_type": "markdown",
   "metadata": {
    "id": "Q2HzxVvONIkW"
   },
   "source": [
    "**Strings** are how Python handles text data. They're surrounded by quotes to tell the compiler that it's dealing with text."
   ]
  },
  {
   "cell_type": "code",
   "execution_count": 10,
   "metadata": {
    "colab": {
     "base_uri": "https://localhost:8080/"
    },
    "executionInfo": {
     "elapsed": 152,
     "status": "ok",
     "timestamp": 1649295176164,
     "user": {
      "displayName": "Nick Monozon",
      "userId": "11577195844974894501"
     },
     "user_tz": 420
    },
    "id": "nn48gcDI_GCc",
    "outputId": "6e80ad15-6a38-46a6-9d71-f8b32f2b5791"
   },
   "outputs": [
    {
     "name": "stdout",
     "output_type": "stream",
     "text": [
      "Hello!\n"
     ]
    }
   ],
   "source": [
    "my_string = \"Hello!\"\n",
    "print(my_string)"
   ]
  },
  {
   "cell_type": "markdown",
   "metadata": {
    "id": "WWQfBBboNTpW"
   },
   "source": [
    "You can add text to strings by using the + operator. Note that you can't subtract from strings like you would with basic arithmetic."
   ]
  },
  {
   "cell_type": "code",
   "execution_count": 11,
   "metadata": {
    "colab": {
     "base_uri": "https://localhost:8080/",
     "height": 36
    },
    "executionInfo": {
     "elapsed": 167,
     "status": "ok",
     "timestamp": 1649295197095,
     "user": {
      "displayName": "Nick Monozon",
      "userId": "11577195844974894501"
     },
     "user_tz": 420
    },
    "id": "Qk-auzon_Yky",
    "outputId": "fdc3597b-8e02-4184-a672-cc0a359f1ce1"
   },
   "outputs": [
    {
     "data": {
      "text/plain": [
       "'Hello! Kevin!'"
      ]
     },
     "execution_count": 11,
     "metadata": {},
     "output_type": "execute_result"
    }
   ],
   "source": [
    "my_string + \" Kevin!\""
   ]
  },
  {
   "cell_type": "markdown",
   "metadata": {
    "id": "33jeytgSNYcl"
   },
   "source": [
    "In order to access a specific character in a string, we use something called *indexing*. Each character has a position in a string called an index (starting at position 0), and in order to access a character in a given position we simply write ``string_name[index]``."
   ]
  },
  {
   "cell_type": "code",
   "execution_count": 12,
   "metadata": {
    "colab": {
     "base_uri": "https://localhost:8080/",
     "height": 35
    },
    "executionInfo": {
     "elapsed": 27,
     "status": "ok",
     "timestamp": 1649208319220,
     "user": {
      "displayName": "Data Science Union",
      "userId": "02562009114063210910"
     },
     "user_tz": 420
    },
    "id": "uBoM-2Xx_i80",
    "outputId": "302da910-5c13-4356-d182-339187084583"
   },
   "outputs": [
    {
     "data": {
      "text/plain": [
       "'!'"
      ]
     },
     "execution_count": 12,
     "metadata": {},
     "output_type": "execute_result"
    }
   ],
   "source": [
    "my_string[5]"
   ]
  },
  {
   "cell_type": "markdown",
   "metadata": {
    "id": "TuY4ZwOzNb6G"
   },
   "source": [
    "In order to access a *subset* of a string, we can index with a colon. ``my_string[start:end]`` gives us the characters from the start index to the end index. Note that start and end **MUST** be integers, **NOT** floats. This is a common error."
   ]
  },
  {
   "cell_type": "code",
   "execution_count": 13,
   "metadata": {
    "colab": {
     "base_uri": "https://localhost:8080/",
     "height": 36
    },
    "executionInfo": {
     "elapsed": 182,
     "status": "ok",
     "timestamp": 1649295309396,
     "user": {
      "displayName": "Nick Monozon",
      "userId": "11577195844974894501"
     },
     "user_tz": 420
    },
    "id": "Incx1t3q_y65",
    "outputId": "418a6a91-64f4-44d6-e859-e74b57b6a730"
   },
   "outputs": [
    {
     "data": {
      "text/plain": [
       "'He'"
      ]
     },
     "execution_count": 13,
     "metadata": {},
     "output_type": "execute_result"
    }
   ],
   "source": [
    "my_string[0:2]"
   ]
  },
  {
   "cell_type": "markdown",
   "metadata": {
    "id": "wwOQc9McNmf1"
   },
   "source": [
    "When indexing a subset of a string, the integer value passed in for *end* is exclusive. For example `\"hello\"[0:1]` will return `h` rather than `he` as one might expect."
   ]
  },
  {
   "cell_type": "markdown",
   "metadata": {
    "id": "dk-nTYrlNnGe"
   },
   "source": [
    "When indexing a string, we can also define a *step* that defines how often Python should access characters over a given interval. The general form of this indexing is ``my_string[start:end:step]``. If the value of step is not defined, it is taken to be 1."
   ]
  },
  {
   "cell_type": "code",
   "execution_count": 14,
   "metadata": {
    "colab": {
     "base_uri": "https://localhost:8080/",
     "height": 36
    },
    "executionInfo": {
     "elapsed": 162,
     "status": "ok",
     "timestamp": 1649295350165,
     "user": {
      "displayName": "Nick Monozon",
      "userId": "11577195844974894501"
     },
     "user_tz": 420
    },
    "id": "m2mIVq87OKP2",
    "outputId": "8e466fc0-d2f3-435d-9c50-9dfa25cd49df"
   },
   "outputs": [
    {
     "data": {
      "text/plain": [
       "'Hello'"
      ]
     },
     "execution_count": 14,
     "metadata": {},
     "output_type": "execute_result"
    }
   ],
   "source": [
    "my_string[0:5:1]"
   ]
  },
  {
   "cell_type": "markdown",
   "metadata": {
    "id": "mO6baok2OMof"
   },
   "source": [
    "Note that we can also denote a string with single quotations. However, we may encounter issues if the string contains single quotations already. In this case, we require double quotations."
   ]
  },
  {
   "cell_type": "code",
   "execution_count": 15,
   "metadata": {
    "colab": {
     "base_uri": "https://localhost:8080/"
    },
    "executionInfo": {
     "elapsed": 283,
     "status": "ok",
     "timestamp": 1649295369117,
     "user": {
      "displayName": "Nick Monozon",
      "userId": "11577195844974894501"
     },
     "user_tz": 420
    },
    "id": "EkswZGsyOSP-",
    "outputId": "bd9ebc2b-d7af-4ba8-f103-8d04d0f915a6"
   },
   "outputs": [
    {
     "name": "stdout",
     "output_type": "stream",
     "text": [
      "Hello!\n"
     ]
    }
   ],
   "source": [
    "my_string2 = 'Hello!'\n",
    "print(my_string2)"
   ]
  },
  {
   "cell_type": "code",
   "execution_count": 16,
   "metadata": {
    "colab": {
     "base_uri": "https://localhost:8080/",
     "height": 133
    },
    "executionInfo": {
     "elapsed": 286,
     "status": "error",
     "timestamp": 1649208319485,
     "user": {
      "displayName": "Data Science Union",
      "userId": "02562009114063210910"
     },
     "user_tz": 420
    },
    "id": "qBMnMGn8OdoW",
    "outputId": "3e8efabc-3515-44a1-9a85-56e8c7cd24dc"
   },
   "outputs": [
    {
     "ename": "SyntaxError",
     "evalue": "invalid syntax (<ipython-input-16-53b82cb22491>, line 1)",
     "output_type": "error",
     "traceback": [
      "\u001b[0;36m  File \u001b[0;32m\"<ipython-input-16-53b82cb22491>\"\u001b[0;36m, line \u001b[0;32m1\u001b[0m\n\u001b[0;31m    my_string3 = 'He said 'hello' to me'\u001b[0m\n\u001b[0m                           ^\u001b[0m\n\u001b[0;31mSyntaxError\u001b[0m\u001b[0;31m:\u001b[0m invalid syntax\n"
     ]
    }
   ],
   "source": [
    "my_string3 = 'He said 'hello' to me'\n",
    "print(my_string3)"
   ]
  },
  {
   "cell_type": "code",
   "execution_count": 18,
   "metadata": {
    "colab": {
     "base_uri": "https://localhost:8080/"
    },
    "executionInfo": {
     "elapsed": 234,
     "status": "ok",
     "timestamp": 1649295400431,
     "user": {
      "displayName": "Nick Monozon",
      "userId": "11577195844974894501"
     },
     "user_tz": 420
    },
    "id": "0pAmdeojOo1e",
    "outputId": "f32db584-4c43-4fd0-af0d-557079ecc330"
   },
   "outputs": [
    {
     "name": "stdout",
     "output_type": "stream",
     "text": [
      "He said 'hello' to me\n"
     ]
    }
   ],
   "source": [
    "my_string3 = \"He said 'hello' to me\"\n",
    "print(my_string3)"
   ]
  },
  {
   "cell_type": "markdown",
   "metadata": {
    "id": "BHTMOu2mUS1f"
   },
   "source": [
    "In Python, we can insert **comments** into our code by using the hash character `#`. Comments are extremely useful when writing code because they allow us to insert commentary and describe what a function does, further enabling our code to be shared and better understood. Consider the code block below."
   ]
  },
  {
   "cell_type": "code",
   "execution_count": 19,
   "metadata": {
    "colab": {
     "base_uri": "https://localhost:8080/"
    },
    "executionInfo": {
     "elapsed": 250,
     "status": "ok",
     "timestamp": 1649295436273,
     "user": {
      "displayName": "Nick Monozon",
      "userId": "11577195844974894501"
     },
     "user_tz": 420
    },
    "id": "ltq4oMXiUZMi",
    "outputId": "cec85ee3-37d3-4200-b7b9-c2b28f475cd5"
   },
   "outputs": [
    {
     "name": "stdout",
     "output_type": "stream",
     "text": [
      "Hello there!\n"
     ]
    }
   ],
   "source": [
    "# creates new string\n",
    "greeting = \"Hello there!\"\n",
    "# prints contents of string\n",
    "print(greeting)"
   ]
  },
  {
   "cell_type": "markdown",
   "metadata": {
    "id": "KmVkHjenVgJg"
   },
   "source": [
    "We can also comment out lines of code. Notice that nothing is printed by the code block below."
   ]
  },
  {
   "cell_type": "code",
   "execution_count": 20,
   "metadata": {
    "colab": {
     "base_uri": "https://localhost:8080/"
    },
    "executionInfo": {
     "elapsed": 155,
     "status": "ok",
     "timestamp": 1649295465422,
     "user": {
      "displayName": "Nick Monozon",
      "userId": "11577195844974894501"
     },
     "user_tz": 420
    },
    "id": "vD1MARjIVqFO",
    "outputId": "1f344753-b50c-4998-bf51-75e4fe50ef5c"
   },
   "outputs": [
    {
     "name": "stdout",
     "output_type": "stream",
     "text": [
      "Hello there!\n"
     ]
    }
   ],
   "source": [
    "# creates new string\n",
    "greeting = \"Hello there!\"\n",
    "# prints contents of string\n",
    "print(greeting)"
   ]
  },
  {
   "cell_type": "markdown",
   "metadata": {
    "id": "PbFKl5VMUnyW"
   },
   "source": [
    "Here, our comments allow us to guide the reader through exactly what our code does. When you write more complicated code, this is extremely useful--especially for yourself."
   ]
  },
  {
   "cell_type": "markdown",
   "metadata": {
    "id": "U_C3xWH8ywEu"
   },
   "source": [
    "## If statements and conditionals"
   ]
  },
  {
   "cell_type": "code",
   "execution_count": 21,
   "metadata": {
    "colab": {
     "base_uri": "https://localhost:8080/"
    },
    "executionInfo": {
     "elapsed": 165,
     "status": "ok",
     "timestamp": 1649295586362,
     "user": {
      "displayName": "Nick Monozon",
      "userId": "11577195844974894501"
     },
     "user_tz": 420
    },
    "id": "5D3ynhHXy1HP",
    "outputId": "44af6412-12d9-4d8a-b2db-28cf6e6a66e3"
   },
   "outputs": [
    {
     "name": "stdout",
     "output_type": "stream",
     "text": [
      "Let's gooooooo\n"
     ]
    }
   ],
   "source": [
    "if my_variable > 5:\n",
    "    print(\"Let's gooooooo\")"
   ]
  },
  {
   "cell_type": "markdown",
   "metadata": {
    "id": "wxC3cWjEy6qb"
   },
   "source": [
    "If statements are ways to let us interact with our variables conditionally. They are some of the fundamental building blocks of all programming languages.\n",
    "\n",
    "```\n",
    "if condition:\n",
    "  do_stuff()\n",
    "  ```"
   ]
  },
  {
   "cell_type": "code",
   "execution_count": 22,
   "metadata": {
    "colab": {
     "base_uri": "https://localhost:8080/"
    },
    "executionInfo": {
     "elapsed": 294,
     "status": "ok",
     "timestamp": 1649295707940,
     "user": {
      "displayName": "Nick Monozon",
      "userId": "11577195844974894501"
     },
     "user_tz": 420
    },
    "id": "nkQV92WircZ9",
    "outputId": "1c493cfc-5c0e-44a4-e61a-e139d3f5cfc9"
   },
   "outputs": [
    {
     "data": {
      "text/plain": [
       "False"
      ]
     },
     "execution_count": 22,
     "metadata": {},
     "output_type": "execute_result"
    }
   ],
   "source": [
    "3>=4"
   ]
  },
  {
   "cell_type": "markdown",
   "metadata": {
    "id": "gb6MBZklzU3B"
   },
   "source": [
    "If statements in Python are super easy to write and tend to read like English. Above is the general format for all if statements. Very clean and easy!"
   ]
  },
  {
   "cell_type": "markdown",
   "metadata": {
    "id": "UjfBSeEmzkBh"
   },
   "source": [
    "## WTF does a condition **look** like?\n",
    "\n",
    "* statements with relational operators\n",
    "  - ``(3 > 4)``, ``(4 == 3)``, ``(9 <= 3)``, ``(x >= y)``, ``(3 != 4)``\n",
    "  \n",
    "\n",
    "*  statements with boolean operators (``and``, ``or``, ``not``)\n",
    "  - ``(not True)``, ``(True or True)``, ``(True and False)``"
   ]
  },
  {
   "cell_type": "markdown",
   "metadata": {
    "id": "pEw1e2m90p6V"
   },
   "source": [
    "## Lists and Dicts"
   ]
  },
  {
   "cell_type": "markdown",
   "metadata": {
    "id": "F1x7v_Pa1Xg9"
   },
   "source": [
    "Sometimes, variables can hold more than one value. We call these things lists, and they work similarly to vectors in R."
   ]
  },
  {
   "cell_type": "code",
   "execution_count": 23,
   "metadata": {
    "colab": {
     "base_uri": "https://localhost:8080/"
    },
    "executionInfo": {
     "elapsed": 2,
     "status": "ok",
     "timestamp": 1649295790743,
     "user": {
      "displayName": "Nick Monozon",
      "userId": "11577195844974894501"
     },
     "user_tz": 420
    },
    "id": "bg-zkokW0uVr",
    "outputId": "25a90556-901a-47cd-aaca-a64922ae731a"
   },
   "outputs": [
    {
     "data": {
      "text/plain": [
       "[1, 2, 3]"
      ]
     },
     "execution_count": 23,
     "metadata": {},
     "output_type": "execute_result"
    }
   ],
   "source": [
    "x = [1,2,3]\n",
    "x"
   ]
  },
  {
   "cell_type": "markdown",
   "metadata": {
    "id": "Pvta_1TG1p60"
   },
   "source": [
    "If you want to access an element in a list, we can index these as if they were like a string."
   ]
  },
  {
   "cell_type": "code",
   "execution_count": 24,
   "metadata": {
    "colab": {
     "base_uri": "https://localhost:8080/"
    },
    "executionInfo": {
     "elapsed": 165,
     "status": "ok",
     "timestamp": 1649295807565,
     "user": {
      "displayName": "Nick Monozon",
      "userId": "11577195844974894501"
     },
     "user_tz": 420
    },
    "id": "cQTMQKs81pE2",
    "outputId": "0fc69a94-07af-4616-cf17-bbc9dfa93bb6"
   },
   "outputs": [
    {
     "data": {
      "text/plain": [
       "1"
      ]
     },
     "execution_count": 24,
     "metadata": {},
     "output_type": "execute_result"
    }
   ],
   "source": [
    "x[0]"
   ]
  },
  {
   "cell_type": "code",
   "execution_count": 25,
   "metadata": {
    "colab": {
     "base_uri": "https://localhost:8080/"
    },
    "executionInfo": {
     "elapsed": 158,
     "status": "ok",
     "timestamp": 1649295821412,
     "user": {
      "displayName": "Nick Monozon",
      "userId": "11577195844974894501"
     },
     "user_tz": 420
    },
    "id": "xA_z7RuH18J0",
    "outputId": "7f65a9bb-170a-4fee-c902-f06a0745b853"
   },
   "outputs": [
    {
     "data": {
      "text/plain": [
       "4"
      ]
     },
     "execution_count": 25,
     "metadata": {},
     "output_type": "execute_result"
    }
   ],
   "source": [
    "x[0] + x[2]"
   ]
  },
  {
   "cell_type": "code",
   "execution_count": 26,
   "metadata": {
    "colab": {
     "base_uri": "https://localhost:8080/",
     "height": 172
    },
    "executionInfo": {
     "elapsed": 140,
     "status": "error",
     "timestamp": 1649295829881,
     "user": {
      "displayName": "Nick Monozon",
      "userId": "11577195844974894501"
     },
     "user_tz": 420
    },
    "id": "s88NoaJT1-qw",
    "outputId": "1547799a-2103-44b5-a367-f7ec146e02a9"
   },
   "outputs": [
    {
     "ename": "IndexError",
     "evalue": "list index out of range",
     "output_type": "error",
     "traceback": [
      "\u001b[0;31m---------------------------------------------------------------------------\u001b[0m",
      "\u001b[0;31mIndexError\u001b[0m                                Traceback (most recent call last)",
      "\u001b[0;32m<ipython-input-26-dc2cd44e899d>\u001b[0m in \u001b[0;36m<module>\u001b[0;34m\u001b[0m\n\u001b[0;32m----> 1\u001b[0;31m \u001b[0mx\u001b[0m\u001b[0;34m[\u001b[0m\u001b[0;36m3\u001b[0m\u001b[0;34m]\u001b[0m\u001b[0;34m\u001b[0m\u001b[0;34m\u001b[0m\u001b[0m\n\u001b[0m",
      "\u001b[0;31mIndexError\u001b[0m: list index out of range"
     ]
    }
   ],
   "source": [
    "x[3]"
   ]
  },
  {
   "cell_type": "markdown",
   "metadata": {
    "id": "q5DnqNHP2ACs"
   },
   "source": [
    "The last code block failed because we tried to find the element indexed at 3, whereas our list *x* only has elements indexed up to 2 (indices 0, 1, and 2). Note that whenever you try to access an index that doesn't exist, Python calls this an **IndexError**."
   ]
  },
  {
   "cell_type": "code",
   "execution_count": 27,
   "metadata": {
    "colab": {
     "base_uri": "https://localhost:8080/"
    },
    "executionInfo": {
     "elapsed": 262,
     "status": "ok",
     "timestamp": 1649295863577,
     "user": {
      "displayName": "Nick Monozon",
      "userId": "11577195844974894501"
     },
     "user_tz": 420
    },
    "id": "pvgfFRpB2YPa",
    "outputId": "97cd0928-38d4-4965-94c6-6bc2ac8ef725"
   },
   "outputs": [
    {
     "data": {
      "text/plain": [
       "[1, 2, 3, 'Daniel']"
      ]
     },
     "execution_count": 27,
     "metadata": {},
     "output_type": "execute_result"
    }
   ],
   "source": [
    "x.append('Daniel')\n",
    "x"
   ]
  },
  {
   "cell_type": "markdown",
   "metadata": {
    "id": "xmp_O85B2dw2"
   },
   "source": [
    "To add a new element to a list, simply write ``list_name.append(value)``. Note that lists can have multiple different types of data -- they aren't constricted to holding just one data type, as with vectors in R."
   ]
  },
  {
   "cell_type": "markdown",
   "metadata": {
    "id": "WNTZKVUTPlEl"
   },
   "source": [
    "Also note that lists have a fixed order in which elements appear, which allows us to access the elements in the fashion seen above."
   ]
  },
  {
   "cell_type": "markdown",
   "metadata": {
    "id": "QW_I8quF2Qm1"
   },
   "source": [
    "## Dicts"
   ]
  },
  {
   "cell_type": "code",
   "execution_count": 28,
   "metadata": {
    "id": "mU6N_YWX2R6C"
   },
   "outputs": [],
   "source": [
    "y = {\"DSU_members\": [\"Daniel\", \"Nick\", \"Vince\"]}"
   ]
  },
  {
   "cell_type": "markdown",
   "metadata": {
    "id": "LtDsJILm2sxO"
   },
   "source": [
    "Dictionaries are a bit fancier than lists. Instead of having an unorganized list of elements, dictionaries contain pairs of **KEYS** and **VALUES**. The general format looks like:\n",
    "\n",
    "``{key1: value2, key2: value2, ...}``"
   ]
  },
  {
   "cell_type": "code",
   "execution_count": 29,
   "metadata": {
    "colab": {
     "base_uri": "https://localhost:8080/"
    },
    "executionInfo": {
     "elapsed": 206,
     "status": "ok",
     "timestamp": 1649295963391,
     "user": {
      "displayName": "Nick Monozon",
      "userId": "11577195844974894501"
     },
     "user_tz": 420
    },
    "id": "iLuUD3rl3JBV",
    "outputId": "4948195f-b216-4a4f-f095-11af399b8d72"
   },
   "outputs": [
    {
     "data": {
      "text/plain": [
       "['Daniel', 'Nick', 'Vince']"
      ]
     },
     "execution_count": 29,
     "metadata": {},
     "output_type": "execute_result"
    }
   ],
   "source": [
    "y['DSU_members']"
   ]
  },
  {
   "cell_type": "code",
   "execution_count": 30,
   "metadata": {
    "colab": {
     "base_uri": "https://localhost:8080/",
     "height": 190
    },
    "executionInfo": {
     "elapsed": 149,
     "status": "error",
     "timestamp": 1649295977129,
     "user": {
      "displayName": "Nick Monozon",
      "userId": "11577195844974894501"
     },
     "user_tz": 420
    },
    "id": "9FGICDwbQEgW",
    "outputId": "3c6fef5a-2355-4a00-c6fe-2142a3575dcc"
   },
   "outputs": [
    {
     "ename": "KeyError",
     "evalue": "0",
     "output_type": "error",
     "traceback": [
      "\u001b[0;31m---------------------------------------------------------------------------\u001b[0m",
      "\u001b[0;31mKeyError\u001b[0m                                  Traceback (most recent call last)",
      "\u001b[0;32m<ipython-input-30-a1b3e9cc3a48>\u001b[0m in \u001b[0;36m<module>\u001b[0;34m\u001b[0m\n\u001b[1;32m      1\u001b[0m \u001b[0;31m# Does not access value of first key\u001b[0m\u001b[0;34m\u001b[0m\u001b[0;34m\u001b[0m\u001b[0;34m\u001b[0m\u001b[0m\n\u001b[0;32m----> 2\u001b[0;31m \u001b[0my\u001b[0m\u001b[0;34m[\u001b[0m\u001b[0;36m0\u001b[0m\u001b[0;34m]\u001b[0m\u001b[0;34m\u001b[0m\u001b[0;34m\u001b[0m\u001b[0m\n\u001b[0m",
      "\u001b[0;31mKeyError\u001b[0m: 0"
     ]
    }
   ],
   "source": [
    "# Does not access value of first key\n",
    "y[0]"
   ]
  },
  {
   "cell_type": "markdown",
   "metadata": {
    "id": "irUK29n93OMW"
   },
   "source": [
    "To access elements, the syntax is dict_name[key]. Keys have to be strings (aka words or phrases surrounded by quotes), but values can be any data type (integer, string, list, etc). Unlike lists, dictionaries are unordered, so we cannot access values contained within the dictionary by index."
   ]
  },
  {
   "cell_type": "code",
   "execution_count": 31,
   "metadata": {
    "colab": {
     "base_uri": "https://localhost:8080/"
    },
    "executionInfo": {
     "elapsed": 274,
     "status": "ok",
     "timestamp": 1649296001080,
     "user": {
      "displayName": "Nick Monozon",
      "userId": "11577195844974894501"
     },
     "user_tz": 420
    },
    "id": "31ZB-F2-3mm8",
    "outputId": "bb2592d2-401f-41e5-9104-c3740ae09e8e"
   },
   "outputs": [
    {
     "data": {
      "text/plain": [
       "{'DSU_members': ['Daniel', 'Nick', 'Vince'], 'Nick_is_awesome': True}"
      ]
     },
     "execution_count": 31,
     "metadata": {},
     "output_type": "execute_result"
    }
   ],
   "source": [
    "y['Nick_is_awesome'] = True\n",
    "y"
   ]
  },
  {
   "cell_type": "code",
   "execution_count": 32,
   "metadata": {
    "colab": {
     "base_uri": "https://localhost:8080/"
    },
    "executionInfo": {
     "elapsed": 153,
     "status": "ok",
     "timestamp": 1649296017019,
     "user": {
      "displayName": "Nick Monozon",
      "userId": "11577195844974894501"
     },
     "user_tz": 420
    },
    "id": "VAfad65p3tLE",
    "outputId": "bee63dd6-f564-4f3a-e232-bf1027d2d740"
   },
   "outputs": [
    {
     "data": {
      "text/plain": [
       "{'DSU_members': ['Daniel', 'Nick', 'Vince'], 'Nick_is_awesome': False}"
      ]
     },
     "execution_count": 32,
     "metadata": {},
     "output_type": "execute_result"
    }
   ],
   "source": [
    "y['Nick_is_awesome'] = False\n",
    "y"
   ]
  },
  {
   "cell_type": "markdown",
   "metadata": {
    "id": "duTnQkfh3wo6"
   },
   "source": [
    "In order to add a new entry, you simply access the new key you want to add and set it equal to the value you want. If the key doesn't yet exist, it'll create a new one, but if it already exists, you'll overwrite the existing value."
   ]
  },
  {
   "cell_type": "markdown",
   "metadata": {
    "id": "3WIhgAwt4Uk-"
   },
   "source": [
    "## Loops and List Comprehension"
   ]
  },
  {
   "cell_type": "code",
   "execution_count": 35,
   "metadata": {
    "colab": {
     "base_uri": "https://localhost:8080/"
    },
    "executionInfo": {
     "elapsed": 139,
     "status": "ok",
     "timestamp": 1649296354821,
     "user": {
      "displayName": "Nick Monozon",
      "userId": "11577195844974894501"
     },
     "user_tz": 420
    },
    "id": "wwcSmMpS4jsD",
    "outputId": "905c4df2-4ccf-466e-e07f-79ab5bcd5856"
   },
   "outputs": [
    {
     "name": "stdout",
     "output_type": "stream",
     "text": [
      "Damnn Daniel is kinda mid lowkey...\n",
      "yoo whats good\n",
      "Yoooo I like Nick\n"
     ]
    },
    {
     "name": "stderr",
     "output_type": "stream",
     "text": [
      "<>:5: SyntaxWarning: \"is not\" with a literal. Did you mean \"!=\"?\n",
      "<>:5: SyntaxWarning: \"is not\" with a literal. Did you mean \"!=\"?\n",
      "<ipython-input-35-6d455e31f9d5>:5: SyntaxWarning: \"is not\" with a literal. Did you mean \"!=\"?\n",
      "  if member is not 'Daniel':\n"
     ]
    }
   ],
   "source": [
    "best_dsu_members = ['Daniel', 'Nick']\n",
    "\n",
    "for member in best_dsu_members:\n",
    "\n",
    "    if member is not 'Daniel':\n",
    "        print('yoo whats good')\n",
    "        print('Yoooo I like ' + member)\n",
    "    else:\n",
    "        print('Damnn ' + member + ' is kinda mid lowkey...')"
   ]
  },
  {
   "cell_type": "markdown",
   "metadata": {
    "id": "BzSFI1TE41MA"
   },
   "source": [
    "Loops also read like English, similarly to if statements. The general syntax is:\n",
    "\n",
    "```\n",
    "for variable in list:\n",
    "  do_stuff()\n",
    "```\n",
    "What the for loop does is it goes through each element in the list. For loops are a good way to iterate through all the elements of a list or dictionary."
   ]
  },
  {
   "cell_type": "code",
   "execution_count": 36,
   "metadata": {
    "colab": {
     "base_uri": "https://localhost:8080/"
    },
    "executionInfo": {
     "elapsed": 141,
     "status": "ok",
     "timestamp": 1649296620312,
     "user": {
      "displayName": "Nick Monozon",
      "userId": "11577195844974894501"
     },
     "user_tz": 420
    },
    "id": "mMtZiVEy6iTN",
    "outputId": "1570e20a-48a9-4e99-a0b7-07edc5d25598"
   },
   "outputs": [
    {
     "name": "stdout",
     "output_type": "stream",
     "text": [
      "0\n",
      "5\n"
     ]
    }
   ],
   "source": [
    "for index in range(10):\n",
    "    if index % 5 == 0:\n",
    "        print(index)"
   ]
  },
  {
   "cell_type": "code",
   "execution_count": 37,
   "metadata": {
    "colab": {
     "base_uri": "https://localhost:8080/"
    },
    "executionInfo": {
     "elapsed": 310,
     "status": "ok",
     "timestamp": 1649296669331,
     "user": {
      "displayName": "Nick Monozon",
      "userId": "11577195844974894501"
     },
     "user_tz": 420
    },
    "id": "kVR9J9CNvcEZ",
    "outputId": "51e3e913-1b67-49d5-ac71-c307cc9375ac"
   },
   "outputs": [
    {
     "data": {
      "text/plain": [
       "3"
      ]
     },
     "execution_count": 37,
     "metadata": {},
     "output_type": "execute_result"
    }
   ],
   "source": [
    "x = [1,2,43]\n",
    "len(x)"
   ]
  },
  {
   "cell_type": "markdown",
   "metadata": {
    "id": "N72t-f927jyK"
   },
   "source": [
    "If you want to iterate through a list of numbers, the ``range()`` function is super useful. \n",
    "\n",
    "How it works is if you call ``range(n)``, it'll output an *iterable* (different but similar to a list) where each element is the numbers 0...n-1. So ``range(3)`` will give you (0, 1, 2) to iterate through. "
   ]
  },
  {
   "cell_type": "code",
   "execution_count": 38,
   "metadata": {
    "colab": {
     "base_uri": "https://localhost:8080/"
    },
    "executionInfo": {
     "elapsed": 201,
     "status": "ok",
     "timestamp": 1649296672864,
     "user": {
      "displayName": "Nick Monozon",
      "userId": "11577195844974894501"
     },
     "user_tz": 420
    },
    "id": "LzS9EHfs7cTF",
    "outputId": "8e53cd61-2236-4fd2-d748-41103bba55a8"
   },
   "outputs": [
    {
     "data": {
      "text/plain": [
       "[0, 2, 4, 6, 8]"
      ]
     },
     "execution_count": 38,
     "metadata": {},
     "output_type": "execute_result"
    }
   ],
   "source": [
    "list(range(0, 10, 2))"
   ]
  },
  {
   "cell_type": "markdown",
   "metadata": {
    "id": "Y12QX4Ev6pFi"
   },
   "source": [
    "You can also pass in a start and stop, as well as a step parameter. ``range(2,5)`` will return (2, 3, 4). And ``range(0, 10, 2)`` will give you the numbers between 0 and 10 (not inclusive) and move in steps of 2, so the iterable will look like (0, 2, 4, 6, 8)"
   ]
  },
  {
   "cell_type": "code",
   "execution_count": 39,
   "metadata": {
    "colab": {
     "base_uri": "https://localhost:8080/"
    },
    "executionInfo": {
     "elapsed": 179,
     "status": "ok",
     "timestamp": 1649296771635,
     "user": {
      "displayName": "Nick Monozon",
      "userId": "11577195844974894501"
     },
     "user_tz": 420
    },
    "id": "YuPw5-v05jqe",
    "outputId": "135aa042-bf2f-48a1-be13-380ff48e206f"
   },
   "outputs": [
    {
     "data": {
      "text/plain": [
       "['Sean', 'Vince', 'Emily', 'Nick']"
      ]
     },
     "execution_count": 39,
     "metadata": {},
     "output_type": "execute_result"
    }
   ],
   "source": [
    "all_dsu_members = ['Sean', 'Tristan', 'Vince', 'Emily', 'Nick', 'Daniel']\n",
    "\n",
    "short_names = [member for member in all_dsu_members if len(member) <= 5]\n",
    "short_names"
   ]
  },
  {
   "cell_type": "markdown",
   "metadata": {
    "id": "lBXKO3kJ54XE"
   },
   "source": [
    "Python lets you define lists with for loops inside (which is pretty dang cool). This is called **list comprehension**. In the case of this list comprehension, we iterate through each element of `all_dsu_members`, and then add it to the `short_names` list if the length of their name is less than or equal to 5 characters.\n",
    "\n",
    "This can be VERY convenient when trying to create lists with filtered data."
   ]
  },
  {
   "cell_type": "code",
   "execution_count": 40,
   "metadata": {
    "id": "yODIxj6QAvip"
   },
   "outputs": [
    {
     "name": "stdout",
     "output_type": "stream",
     "text": [
      "0\n",
      "1\n",
      "2\n",
      "3\n",
      "4\n",
      "5\n",
      "6\n",
      "7\n",
      "8\n",
      "9\n"
     ]
    }
   ],
   "source": [
    "i = 0\n",
    "\n",
    "while i < 10:\n",
    "\n",
    "    print(i)\n",
    "    i = i + 1"
   ]
  },
  {
   "cell_type": "markdown",
   "metadata": {
    "id": "qmwhe612A1YF"
   },
   "source": [
    "Another common loop is the *while* loop, which works similarly to a for loop. However, instead of iterating through a list, while loops repeat UNTIL their condition is false. In the case of the above loop, the variable `i` is initialized to 0, and then we keep increasing the value of `i` each time the loop runs. The loop will only stop when the value of `i` is NOT less than 10, i.e., it's greater than or EQUAL to 10. \n",
    "\n",
    "Note: while loops can be dangerous. If their condition is never false, then they will run forever, causing your program to crash. This is called an infinite loop, and you should always try to avoid them."
   ]
  },
  {
   "cell_type": "markdown",
   "metadata": {
    "id": "8ZJiL-bJ8SD1"
   },
   "source": [
    "## Functions"
   ]
  },
  {
   "cell_type": "code",
   "execution_count": 41,
   "metadata": {
    "executionInfo": {
     "elapsed": 147,
     "status": "ok",
     "timestamp": 1649898330302,
     "user": {
      "displayName": "Daniel Mendelevitch",
      "userId": "04173565869597277198"
     },
     "user_tz": 420
    },
    "id": "NKONdpVE8TcO"
   },
   "outputs": [
    {
     "data": {
      "text/plain": [
       "True"
      ]
     },
     "execution_count": 41,
     "metadata": {},
     "output_type": "execute_result"
    }
   ],
   "source": [
    "def is_name_short(name):\n",
    "    return len(name) <= 5\n",
    "  \n",
    "\n",
    "is_name_short('Sean')"
   ]
  },
  {
   "cell_type": "markdown",
   "metadata": {
    "id": "a-TMzoi48qlU"
   },
   "source": [
    "Functions are super useful in Python and let us package a bunch of code that does a useful operation with ease and convenience.\n",
    "\n",
    "The general form of most functions is:\n",
    "\n",
    "```\n",
    "def function_name(param1, param2, ...):\n",
    "  do_stuff_with_params()\n",
    "  ...\n",
    "  ...\n",
    "  return stuff\n",
    "```\n",
    "\n",
    "A few key pointers:\n",
    "\n",
    "- Each function has *parameters*, which are what you input to the function. These can take on any data type, but often times certain functions with a set purpose expect a specific data type for the inputs.\n",
    "\n",
    "- Often times, functions have multiple lines of code which somehow does something meaningful with the inputs.\n",
    "\n",
    "- At the end of the function, if you want to output some information, be sure to include a **return** statement, which ensures that your function outputs what you wanted."
   ]
  },
  {
   "cell_type": "code",
   "execution_count": 47,
   "metadata": {
    "colab": {
     "base_uri": "https://localhost:8080/"
    },
    "executionInfo": {
     "elapsed": 180,
     "status": "ok",
     "timestamp": 1649898411857,
     "user": {
      "displayName": "Daniel Mendelevitch",
      "userId": "04173565869597277198"
     },
     "user_tz": 420
    },
    "id": "sxu7pmxE987g",
    "outputId": "44536807-46cb-4861-d5ef-e66c3c869be1"
   },
   "outputs": [
    {
     "name": "stdout",
     "output_type": "stream",
     "text": [
      "None\n"
     ]
    }
   ],
   "source": [
    "def is_name_cool(name):\n",
    "    cool_names = ['Daniel', 'Nick']\n",
    "    cool_name = True\n",
    "    if name in cool_names:\n",
    "        cool_name = True\n",
    "    else:\n",
    "        cool_name = False\n",
    "\n",
    "print(is_name_cool('Sean'))"
   ]
  },
  {
   "cell_type": "markdown",
   "metadata": {
    "id": "qs0KWfnF-eF4"
   },
   "source": [
    "## Question: This code didn't throw an error, but the function didn't output what we wanted to. What went wrong here?"
   ]
  },
  {
   "cell_type": "code",
   "execution_count": 45,
   "metadata": {
    "colab": {
     "base_uri": "https://localhost:8080/"
    },
    "executionInfo": {
     "elapsed": 277,
     "status": "ok",
     "timestamp": 1649898487737,
     "user": {
      "displayName": "Daniel Mendelevitch",
      "userId": "04173565869597277198"
     },
     "user_tz": 420
    },
    "id": "tSZHbe3kBZkz",
    "outputId": "f79492ed-63f1-4dc9-f66d-917e0240bad0"
   },
   "outputs": [
    {
     "data": {
      "text/plain": [
       "3.8"
      ]
     },
     "execution_count": 45,
     "metadata": {},
     "output_type": "execute_result"
    }
   ],
   "source": [
    "def mean(data_list):\n",
    "\n",
    "    total_value = 0\n",
    "    for item in data_list:\n",
    "        total_value = total_value + item\n",
    "\n",
    "    total_value = total_value / len(data_list)\n",
    "\n",
    "    return total_value\n",
    "\n",
    "mean([1, 2, 3, 4, 9])"
   ]
  },
  {
   "cell_type": "markdown",
   "metadata": {
    "id": "3yybBQdnBwuU"
   },
   "source": [
    "This is an implementation of a function which calculates the mean of a list of numbers. There's a few ways it could be improved, but this example is meant to illustrate the use of functions and a simple for loop algorithm."
   ]
  },
  {
   "cell_type": "code",
   "execution_count": 13,
   "metadata": {
    "executionInfo": {
     "elapsed": 537,
     "status": "ok",
     "timestamp": 1649898617033,
     "user": {
      "displayName": "Daniel Mendelevitch",
      "userId": "04173565869597277198"
     },
     "user_tz": 420
    },
    "id": "LGRU1XkEDF0y"
   },
   "outputs": [],
   "source": [
    "def mystery_function(my_string):\n",
    "\n",
    "    out_str = ''\n",
    "    for idx in range(0, len(my_string), 2):\n",
    "        out_str += my_string[idx]\n",
    "\n",
    "    return out_str"
   ]
  },
  {
   "cell_type": "markdown",
   "metadata": {
    "id": "jiCnk9f0DST8"
   },
   "source": [
    "## Question: What does this function do?"
   ]
  },
  {
   "cell_type": "code",
   "execution_count": 14,
   "metadata": {
    "colab": {
     "base_uri": "https://localhost:8080/",
     "height": 35
    },
    "executionInfo": {
     "elapsed": 153,
     "status": "ok",
     "timestamp": 1649898618234,
     "user": {
      "displayName": "Daniel Mendelevitch",
      "userId": "04173565869597277198"
     },
     "user_tz": 420
    },
    "id": "N8IHEQ3AfkSL",
    "outputId": "b2f87d8b-1e2c-49d3-b210-93467f0c65f0"
   },
   "outputs": [
    {
     "data": {
      "application/vnd.google.colaboratory.intrinsic+json": {
       "type": "string"
      },
      "text/plain": [
       "'Dne n ik'"
      ]
     },
     "execution_count": 14,
     "metadata": {},
     "output_type": "execute_result"
    }
   ],
   "source": [
    "mystery_function('Daniel and Nick!')"
   ]
  },
  {
   "cell_type": "markdown",
   "metadata": {
    "id": "MgYItCoDDCI0"
   },
   "source": [
    "# Classes"
   ]
  },
  {
   "cell_type": "markdown",
   "metadata": {
    "id": "gn595RzxTFjx"
   },
   "source": [
    "Python is an *object-oriented* programming language, meaning that it is designed so that most of the code we write manipulates **objects**.\n",
    "\n",
    "**Everything in Python is an object** with a specific data `type`. *Classes* in Python provide the mechanism for creating *objects* or *instances* of each type, and defining each type's *attributes* and *methods*. Attributes are variables that belong to an object/class instance, and methods are functions that belong to an object/class instance.\n",
    "\n",
    "Here's an example of how to use them, taken from the Python tutorial:"
   ]
  },
  {
   "cell_type": "code",
   "execution_count": 48,
   "metadata": {
    "executionInfo": {
     "elapsed": 146,
     "status": "ok",
     "timestamp": 1649898917728,
     "user": {
      "displayName": "Daniel Mendelevitch",
      "userId": "04173565869597277198"
     },
     "user_tz": 420
    },
    "id": "yjZ5HsxJWtbX"
   },
   "outputs": [],
   "source": [
    "class MyClass:\n",
    "    \"\"\"A simple example class\"\"\"\n",
    "    def __init__(self, data):\n",
    "        self.i = data\n",
    "        self.name = 'Nick'\n",
    "        print(\"I have been initialized!\")\n",
    "\n",
    "    def f(self):\n",
    "        return 'hello world'"
   ]
  },
  {
   "cell_type": "code",
   "execution_count": 49,
   "metadata": {
    "colab": {
     "base_uri": "https://localhost:8080/"
    },
    "executionInfo": {
     "elapsed": 153,
     "status": "ok",
     "timestamp": 1649898921551,
     "user": {
      "displayName": "Daniel Mendelevitch",
      "userId": "04173565869597277198"
     },
     "user_tz": 420
    },
    "id": "FpjbOh5tW2-c",
    "outputId": "57ec424a-b188-4e13-8cca-937dd3112511"
   },
   "outputs": [
    {
     "name": "stdout",
     "output_type": "stream",
     "text": [
      "I have been initialized!\n"
     ]
    }
   ],
   "source": [
    "my_object = MyClass(1234)"
   ]
  },
  {
   "cell_type": "markdown",
   "metadata": {
    "id": "6_vxYukiZpx6"
   },
   "source": [
    "Note that every class needs an `__init__()` method. This tells the class how to initialize it's attributes. When defining a class, the `__init__()` is vital to how people create *instances* of your class.\n",
    "\n",
    "Another note: Every function WITHIN a class (we call these *methods*) has a parameter called \"self\". When writing methods for a class, those methods can access object attributes (see below), but in order to do that you need to pass \"self\" to each function within the class. You can think of the \"self\" parameter as holding all the attribute information for a given object. "
   ]
  },
  {
   "cell_type": "code",
   "execution_count": 50,
   "metadata": {
    "colab": {
     "base_uri": "https://localhost:8080/",
     "height": 53
    },
    "executionInfo": {
     "elapsed": 8,
     "status": "ok",
     "timestamp": 1649898924347,
     "user": {
      "displayName": "Daniel Mendelevitch",
      "userId": "04173565869597277198"
     },
     "user_tz": 420
    },
    "id": "Oj-SnO4oT-k-",
    "outputId": "3685fe85-96ff-47b2-b2ea-ac3ad0e59989"
   },
   "outputs": [
    {
     "name": "stdout",
     "output_type": "stream",
     "text": [
      "Nick\n"
     ]
    },
    {
     "data": {
      "text/plain": [
       "'hello world'"
      ]
     },
     "execution_count": 50,
     "metadata": {},
     "output_type": "execute_result"
    }
   ],
   "source": [
    "print(my_object.name) # print class attribute\n",
    "my_object.f()      # run class method"
   ]
  },
  {
   "cell_type": "markdown",
   "metadata": {
    "id": "mjVzUHo2S1md"
   },
   "source": [
    "Here, ``my_object`` is called an *instance* of the class `MyClass`. And `i` is an *attribute* of ``my_object``, or piece of information about ``my_object``. We can also create classes that allow us to specify attributes of our own. For example, consider the `Name` class below with attributes name and height."
   ]
  },
  {
   "cell_type": "code",
   "execution_count": 51,
   "metadata": {
    "executionInfo": {
     "elapsed": 175,
     "status": "ok",
     "timestamp": 1649899284854,
     "user": {
      "displayName": "Daniel Mendelevitch",
      "userId": "04173565869597277198"
     },
     "user_tz": 420
    },
    "id": "idP97IZ3Tcdp"
   },
   "outputs": [],
   "source": [
    "class Person:\n",
    "    \"\"\"A class to give information about your name\"\"\"\n",
    "    def __init__(self, name = 'Anonymous', height = 0):\n",
    "        self.name = name\n",
    "        self.height = height\n",
    "        print(f'Hi, {name}! Class initialized.')\n",
    "\n",
    "    def is_tall(self):\n",
    "        if self.height > 64:\n",
    "            return True\n",
    "        else:\n",
    "            return False\n",
    "\n"
   ]
  },
  {
   "cell_type": "code",
   "execution_count": 52,
   "metadata": {
    "colab": {
     "base_uri": "https://localhost:8080/",
     "height": 168
    },
    "executionInfo": {
     "elapsed": 142,
     "status": "error",
     "timestamp": 1649899285823,
     "user": {
      "displayName": "Daniel Mendelevitch",
      "userId": "04173565869597277198"
     },
     "user_tz": 420
    },
    "id": "XpPBkleUX2qH",
    "outputId": "1424c5aa-922b-41bf-f31e-b71bdf3247af"
   },
   "outputs": [
    {
     "name": "stdout",
     "output_type": "stream",
     "text": [
      "Hi, Anonymous! Class initialized.\n"
     ]
    }
   ],
   "source": [
    "person1 = Person()"
   ]
  },
  {
   "cell_type": "markdown",
   "metadata": {
    "id": "JVjVOTd3UHg2"
   },
   "source": [
    "Here, we didn't specify attributes so the instance is initialized with the default attributes. We can access these attributes as follows:"
   ]
  },
  {
   "cell_type": "code",
   "execution_count": 53,
   "metadata": {
    "colab": {
     "base_uri": "https://localhost:8080/",
     "height": 35
    },
    "executionInfo": {
     "elapsed": 10,
     "status": "ok",
     "timestamp": 1649899052538,
     "user": {
      "displayName": "Daniel Mendelevitch",
      "userId": "04173565869597277198"
     },
     "user_tz": 420
    },
    "id": "axnI7_RaYH2O",
    "outputId": "d17127a6-2265-4308-81cc-4695758abbf0"
   },
   "outputs": [
    {
     "data": {
      "text/plain": [
       "'Anonymous'"
      ]
     },
     "execution_count": 53,
     "metadata": {},
     "output_type": "execute_result"
    }
   ],
   "source": [
    "person1.name"
   ]
  },
  {
   "cell_type": "code",
   "execution_count": 54,
   "metadata": {
    "colab": {
     "base_uri": "https://localhost:8080/"
    },
    "executionInfo": {
     "elapsed": 148,
     "status": "ok",
     "timestamp": 1649899057810,
     "user": {
      "displayName": "Daniel Mendelevitch",
      "userId": "04173565869597277198"
     },
     "user_tz": 420
    },
    "id": "AHdVJru6YKK3",
    "outputId": "17c6d3f2-233c-4771-c8d3-2d4762ffcf12"
   },
   "outputs": [
    {
     "data": {
      "text/plain": [
       "0"
      ]
     },
     "execution_count": 54,
     "metadata": {},
     "output_type": "execute_result"
    }
   ],
   "source": [
    "person1.height"
   ]
  },
  {
   "cell_type": "markdown",
   "metadata": {
    "id": "sMxD3vPLYLy3"
   },
   "source": [
    "Instead, let's now initialize an instance of the class `Name` with name attribute Nick and height attribute 72."
   ]
  },
  {
   "cell_type": "code",
   "execution_count": 55,
   "metadata": {
    "executionInfo": {
     "elapsed": 189,
     "status": "ok",
     "timestamp": 1649899241991,
     "user": {
      "displayName": "Daniel Mendelevitch",
      "userId": "04173565869597277198"
     },
     "user_tz": 420
    },
    "id": "JL0byzFYUA5V"
   },
   "outputs": [
    {
     "name": "stdout",
     "output_type": "stream",
     "text": [
      "Hi, Nick! Class initialized.\n"
     ]
    }
   ],
   "source": [
    "person2 = Person('Nick', 72)"
   ]
  },
  {
   "cell_type": "code",
   "execution_count": 56,
   "metadata": {
    "colab": {
     "base_uri": "https://localhost:8080/"
    },
    "executionInfo": {
     "elapsed": 137,
     "status": "ok",
     "timestamp": 1649899066196,
     "user": {
      "displayName": "Daniel Mendelevitch",
      "userId": "04173565869597277198"
     },
     "user_tz": 420
    },
    "id": "NLXv8ExOYS3m",
    "outputId": "75cbfe05-9ad0-44c2-df98-b456edf659d0"
   },
   "outputs": [
    {
     "data": {
      "text/plain": [
       "72"
      ]
     },
     "execution_count": 56,
     "metadata": {},
     "output_type": "execute_result"
    }
   ],
   "source": [
    "person2.height"
   ]
  },
  {
   "cell_type": "markdown",
   "metadata": {
    "id": "mJxl-QslYXmO"
   },
   "source": [
    "In our class definition above, we also defined a method `is_tall()`. We can *call* the method on an instance person2 of the class `Name` as follows:"
   ]
  },
  {
   "cell_type": "code",
   "execution_count": 57,
   "metadata": {
    "colab": {
     "base_uri": "https://localhost:8080/",
     "height": 293
    },
    "executionInfo": {
     "elapsed": 9,
     "status": "error",
     "timestamp": 1649899243523,
     "user": {
      "displayName": "Daniel Mendelevitch",
      "userId": "04173565869597277198"
     },
     "user_tz": 420
    },
    "id": "HIw-40oXYrRu",
    "outputId": "75d75129-7dde-4b80-b38c-e25b83ce9233"
   },
   "outputs": [
    {
     "data": {
      "text/plain": [
       "True"
      ]
     },
     "execution_count": 57,
     "metadata": {},
     "output_type": "execute_result"
    }
   ],
   "source": [
    "person2.is_tall()"
   ]
  },
  {
   "cell_type": "markdown",
   "metadata": {
    "id": "fMbdMGlBXT5G"
   },
   "source": [
    "We will initialize another instance of the class `Name` with name attribute Danny (Devito) and height attribute 58."
   ]
  },
  {
   "cell_type": "code",
   "execution_count": 58,
   "metadata": {
    "colab": {
     "base_uri": "https://localhost:8080/"
    },
    "executionInfo": {
     "elapsed": 157,
     "status": "ok",
     "timestamp": 1649899093659,
     "user": {
      "displayName": "Daniel Mendelevitch",
      "userId": "04173565869597277198"
     },
     "user_tz": 420
    },
    "id": "OgGTrtmDXIie",
    "outputId": "06e08222-9109-4c22-8936-277993b8e8b7"
   },
   "outputs": [
    {
     "name": "stdout",
     "output_type": "stream",
     "text": [
      "Hi, Danny! Class initialized.\n"
     ]
    }
   ],
   "source": [
    "person2 = Person('Danny', 58)"
   ]
  },
  {
   "cell_type": "code",
   "execution_count": 59,
   "metadata": {
    "colab": {
     "base_uri": "https://localhost:8080/"
    },
    "executionInfo": {
     "elapsed": 148,
     "status": "ok",
     "timestamp": 1649899098296,
     "user": {
      "displayName": "Daniel Mendelevitch",
      "userId": "04173565869597277198"
     },
     "user_tz": 420
    },
    "id": "UT3PWbCgXOX-",
    "outputId": "b72499ee-ee13-439e-f7af-9627ed916866"
   },
   "outputs": [
    {
     "data": {
      "text/plain": [
       "False"
      ]
     },
     "execution_count": 59,
     "metadata": {},
     "output_type": "execute_result"
    }
   ],
   "source": [
    "person2.is_tall()"
   ]
  },
  {
   "cell_type": "markdown",
   "metadata": {
    "id": "ePikETUcXDxY"
   },
   "source": [
    "When defining classes, we can also use docstrings (in triple quotations) to provide information about what the class does. Consider the class ``Car`` below."
   ]
  },
  {
   "cell_type": "code",
   "execution_count": 60,
   "metadata": {
    "executionInfo": {
     "elapsed": 4,
     "status": "ok",
     "timestamp": 1649899520963,
     "user": {
      "displayName": "Daniel Mendelevitch",
      "userId": "04173565869597277198"
     },
     "user_tz": 420
    },
    "id": "pHYN7ms5XL_l"
   },
   "outputs": [],
   "source": [
    "class Car():\n",
    "    \"\"\"\n",
    "    Simple class that has the make and model of a car and allows user to accelerate it.\n",
    "    \"\"\"\n",
    "    def __init__(self, model=\"Unknown\", make=\"Unknown\"):\n",
    "        self.model = model\n",
    "        self.make = make\n",
    "        self.speed = 0\n",
    "        print(f'You have created a {model} {make}. Nice choice!')\n",
    "\n",
    "    def accelerate(self, x):\n",
    "        self.speed += x  # += is shorthand for incrementing a variable's value\n",
    "\n",
    "    def get_speed(self):\n",
    "        print(f'You are going {self.speed} miles per hour!')"
   ]
  },
  {
   "cell_type": "markdown",
   "metadata": {
    "id": "nnPOHsp_Y4Is"
   },
   "source": [
    "# Question: Is this a good docstring?"
   ]
  },
  {
   "cell_type": "markdown",
   "metadata": {
    "id": "lTRIulUkYc9A"
   },
   "source": [
    "Below, we will create an instance `civic` of the class `Car`. We will then call the method `accelerate()` on this instance to increase its speed by 10 mph. We will call the method again to increase its speed by 15 mph."
   ]
  },
  {
   "cell_type": "code",
   "execution_count": 61,
   "metadata": {
    "colab": {
     "base_uri": "https://localhost:8080/",
     "height": 53
    },
    "executionInfo": {
     "elapsed": 249,
     "status": "ok",
     "timestamp": 1649899430214,
     "user": {
      "displayName": "Daniel Mendelevitch",
      "userId": "04173565869597277198"
     },
     "user_tz": 420
    },
    "id": "ly33E2DPYC2g",
    "outputId": "1aaab2f9-b4e0-45d3-87d7-774c4fe6be8b"
   },
   "outputs": [
    {
     "name": "stdout",
     "output_type": "stream",
     "text": [
      "You have created a Honda Civic. Nice choice!\n"
     ]
    }
   ],
   "source": [
    "civic = Car('Honda', 'Civic')"
   ]
  },
  {
   "cell_type": "code",
   "execution_count": 62,
   "metadata": {
    "colab": {
     "base_uri": "https://localhost:8080/"
    },
    "executionInfo": {
     "elapsed": 134,
     "status": "ok",
     "timestamp": 1649899523017,
     "user": {
      "displayName": "Daniel Mendelevitch",
      "userId": "04173565869597277198"
     },
     "user_tz": 420
    },
    "id": "Tc3soWUQYIRW",
    "outputId": "0ebc2b09-4124-4b19-b5b3-2b7314345ea8"
   },
   "outputs": [
    {
     "name": "stdout",
     "output_type": "stream",
     "text": [
      "You are going 10 miles per hour!\n"
     ]
    }
   ],
   "source": [
    "civic.accelerate(10)\n",
    "civic.get_speed()"
   ]
  },
  {
   "cell_type": "code",
   "execution_count": 63,
   "metadata": {
    "colab": {
     "base_uri": "https://localhost:8080/"
    },
    "executionInfo": {
     "elapsed": 136,
     "status": "ok",
     "timestamp": 1649899542721,
     "user": {
      "displayName": "Daniel Mendelevitch",
      "userId": "04173565869597277198"
     },
     "user_tz": 420
    },
    "id": "2KC6RMZrYK9G",
    "outputId": "b971495e-c9a2-4869-a569-cbf1ad1ea605"
   },
   "outputs": [
    {
     "name": "stdout",
     "output_type": "stream",
     "text": [
      "You are going 25 miles per hour!\n"
     ]
    }
   ],
   "source": [
    "civic.accelerate(15)\n",
    "civic.get_speed()"
   ]
  },
  {
   "cell_type": "markdown",
   "metadata": {
    "id": "e9fVKN8OZNKe"
   },
   "source": [
    "![](https://cdn.discordapp.com/attachments/400839337052209152/960292893262753883/Screen_Shot_2022-04-03_at_2.40.57_PM.png)"
   ]
  },
  {
   "cell_type": "markdown",
   "metadata": {
    "id": "VYoV430vZQEK"
   },
   "source": [
    "An example docstring from Daniel's job."
   ]
  },
  {
   "cell_type": "markdown",
   "metadata": {
    "id": "jTWscsvMhZvM"
   },
   "source": [
    "# EVERYTHING is an object (except for functions, kinda)"
   ]
  },
  {
   "cell_type": "code",
   "execution_count": 64,
   "metadata": {
    "colab": {
     "base_uri": "https://localhost:8080/"
    },
    "executionInfo": {
     "elapsed": 184,
     "status": "ok",
     "timestamp": 1649899555663,
     "user": {
      "displayName": "Daniel Mendelevitch",
      "userId": "04173565869597277198"
     },
     "user_tz": 420
    },
    "id": "1MTA7NebhZIk",
    "outputId": "66ddcd3c-8b39-4b41-f438-00c0a9c4a6e8"
   },
   "outputs": [
    {
     "data": {
      "text/plain": [
       "int"
      ]
     },
     "execution_count": 64,
     "metadata": {},
     "output_type": "execute_result"
    }
   ],
   "source": [
    "x = 4\n",
    "type(x)"
   ]
  },
  {
   "cell_type": "markdown",
   "metadata": {
    "id": "24L4EzTzhf2f"
   },
   "source": [
    "Almost everything we've covered so far has been an object. Integers, floats, strings, lists, dicts, etc are all objects which python has implemented for you. Things like strings, lists, and dicts also have attributes and methods."
   ]
  },
  {
   "cell_type": "code",
   "execution_count": 65,
   "metadata": {
    "colab": {
     "base_uri": "https://localhost:8080/"
    },
    "executionInfo": {
     "elapsed": 4,
     "status": "ok",
     "timestamp": 1649899559736,
     "user": {
      "displayName": "Daniel Mendelevitch",
      "userId": "04173565869597277198"
     },
     "user_tz": 420
    },
    "id": "P47QL-4Fh4Q5",
    "outputId": "916baf10-c72f-4a44-e2d5-6c8854703a49"
   },
   "outputs": [
    {
     "data": {
      "text/plain": [
       "dict_keys(['Hey there!'])"
      ]
     },
     "execution_count": 65,
     "metadata": {},
     "output_type": "execute_result"
    }
   ],
   "source": [
    "x = {\"Hey there!\": \"What's up?\"}\n",
    "x.keys()"
   ]
  },
  {
   "cell_type": "markdown",
   "metadata": {
    "id": "2Y1DB1g4gQ_F"
   },
   "source": [
    "You can also initialize built-in objects like lists and dictionaries as you would a custom object."
   ]
  },
  {
   "cell_type": "code",
   "execution_count": 66,
   "metadata": {
    "colab": {
     "base_uri": "https://localhost:8080/"
    },
    "executionInfo": {
     "elapsed": 173,
     "status": "ok",
     "timestamp": 1649899562373,
     "user": {
      "displayName": "Daniel Mendelevitch",
      "userId": "04173565869597277198"
     },
     "user_tz": 420
    },
    "id": "CDyJcjcagP3W",
    "outputId": "bc7124c3-2915-4010-d146-6be5f7de9172"
   },
   "outputs": [
    {
     "data": {
      "text/plain": [
       "{'x': 4, 'y': 3}"
      ]
     },
     "execution_count": 66,
     "metadata": {},
     "output_type": "execute_result"
    }
   ],
   "source": [
    "x = dict(x=4, y=3)\n",
    "x"
   ]
  },
  {
   "cell_type": "markdown",
   "metadata": {
    "id": "8GOcL9EGVRlz"
   },
   "source": [
    "This is all we'll cover about classes for now, but more detailed information can be found in the Python documentation: https://docs.python.org/3/tutorial/classes.html#a-first-look-at-classes.\n",
    "\n",
    "All of the data science libraries we will be using introduce new classes, and we need to understand how to use them effectively for our data science needs. Below, we'll provide examples of just how fundamental classes will be throughout your data science journey. Don't worry too much about the details yet--we'll cover them in later weeks, but wanted to give you a glimpse into what you'll be learning."
   ]
  },
  {
   "cell_type": "markdown",
   "metadata": {
    "id": "UQ30UMHiPkFK"
   },
   "source": [
    "## Imports and Packages"
   ]
  },
  {
   "cell_type": "markdown",
   "metadata": {
    "id": "AdBkFxe4PvQG"
   },
   "source": [
    "One of the coolest things about Python is the variety of **packages** available. Packages are snippets of code that people publish online that anybody using python can use. The number of packages available for data science is one of the main draws of Python."
   ]
  },
  {
   "cell_type": "code",
   "execution_count": 67,
   "metadata": {
    "colab": {
     "base_uri": "https://localhost:8080/"
    },
    "executionInfo": {
     "elapsed": 240,
     "status": "ok",
     "timestamp": 1649899639541,
     "user": {
      "displayName": "Daniel Mendelevitch",
      "userId": "04173565869597277198"
     },
     "user_tz": 420
    },
    "id": "hXNjCxD_QWOI",
    "outputId": "7d56a639-78bd-406a-d8dc-d2bf5454db03"
   },
   "outputs": [
    {
     "data": {
      "text/plain": [
       "numpy.ndarray"
      ]
     },
     "execution_count": 67,
     "metadata": {},
     "output_type": "execute_result"
    }
   ],
   "source": [
    "import numpy\n",
    "x = numpy.array([1,2,3])\n",
    "type(x)"
   ]
  },
  {
   "cell_type": "markdown",
   "metadata": {
    "id": "jR2-L9cmQiTq"
   },
   "source": [
    "Notice how x is NOT a list. Instead, it's a \"np.ndarray\" (numpy n-dimensional array). This is a custom object implemented in the numpy package, and it has a lot of cool features that make them more efficient and convenient to use in comparison to default python lists.\n",
    "\n",
    "In the above code snippet, the package \"numpy\" was imported. In general, after you've downloaded an external package (we'll go over how to do this in detail later), you simply write import [package_name] to get access to all the classes and methods in that package."
   ]
  },
  {
   "cell_type": "markdown",
   "metadata": {
    "id": "LsSk5tviQ0g1"
   },
   "source": [
    "## What does a package actually **LOOK** like?"
   ]
  },
  {
   "cell_type": "markdown",
   "metadata": {
    "id": "yM3HWgNTQ3Vy"
   },
   "source": [
    "Under the hood, packages are just Python files. Often times they provide useful class definitions and methods which help you speed up certain computation tasks. \n",
    "\n",
    "![](https://cdn.discordapp.com/attachments/492430462053253123/960285868596293682/Screen_Shot_2022-04-03_at_2.12.56_PM.png)"
   ]
  },
  {
   "cell_type": "markdown",
   "metadata": {
    "id": "3ZXB4RSmR0sq"
   },
   "source": [
    "Above is the Array class as seen in the numpy source code. Fun fact: NumPy is built to be efficient, and so a lot of the computations are actually done in C++ code and then translated into python by something called a Wrapper."
   ]
  },
  {
   "cell_type": "code",
   "execution_count": 68,
   "metadata": {
    "id": "Ls338n76SS7I"
   },
   "outputs": [
    {
     "data": {
      "text/plain": [
       "array([1, 2, 3])"
      ]
     },
     "execution_count": 68,
     "metadata": {},
     "output_type": "execute_result"
    }
   ],
   "source": [
    "import numpy as np \n",
    "np.array([1, 2, 3])"
   ]
  },
  {
   "cell_type": "markdown",
   "metadata": {
    "id": "_kkOvWEZShgf"
   },
   "source": [
    "Note that you can choose a custom name to reference packages when you import them. In this case, instead of writing ``numpy.array`` or ``numpy.[anything]``, instead we write ``np.[anything]\"``since we included the ``as np`` term in the import statement. "
   ]
  },
  {
   "cell_type": "code",
   "execution_count": 69,
   "metadata": {
    "colab": {
     "base_uri": "https://localhost:8080/"
    },
    "executionInfo": {
     "elapsed": 171,
     "status": "ok",
     "timestamp": 1649899694370,
     "user": {
      "displayName": "Daniel Mendelevitch",
      "userId": "04173565869597277198"
     },
     "user_tz": 420
    },
    "id": "NxgbpgQgSuEk",
    "outputId": "f0c73e3e-59e1-47c6-ec9e-e992e0fe8b38"
   },
   "outputs": [
    {
     "data": {
      "text/plain": [
       "5.0"
      ]
     },
     "execution_count": 69,
     "metadata": {},
     "output_type": "execute_result"
    }
   ],
   "source": [
    "import numpy as np\n",
    "from numpy.linalg import norm\n",
    "x1 = np.array([3, 4])\n",
    "\n",
    "norm(x1)"
   ]
  },
  {
   "cell_type": "markdown",
   "metadata": {
    "id": "kwCE0b5xTXc1"
   },
   "source": [
    "Note that we can also import *specific* methods and attributes directly by using the **from** keyword. In the above code example, we import the *norm* function (finds the magnitude of an array, like you would compute for a vector) from numpy.linalg. If we wanted to call the `norm()` function regularly, we'd have to write `numpy.linalg.norm(x1)`, but because we had wrote `from numpy.linalg import norm `, we can just write norm(x1) which saves us time."
   ]
  },
  {
   "cell_type": "markdown",
   "metadata": {
    "id": "0bf33irLTyJY"
   },
   "source": [
    "## Imports in action #DataScience"
   ]
  },
  {
   "cell_type": "markdown",
   "metadata": {
    "id": "cAvqN4QachEv"
   },
   "source": [
    "Lasso is a type of regression model commonly used in machine learning (we plan to touch on this during Week 7, so stay tuned) that uses shrinkage to perform variable selection and reduce model complexity. Below, we import the `Lasso` class from the sklearn.linear_model library. We then create an instance of the class `Lasso` called `clf`."
   ]
  },
  {
   "cell_type": "code",
   "execution_count": 70,
   "metadata": {
    "executionInfo": {
     "elapsed": 823,
     "status": "ok",
     "timestamp": 1649899735717,
     "user": {
      "displayName": "Daniel Mendelevitch",
      "userId": "04173565869597277198"
     },
     "user_tz": 420
    },
    "id": "17t9PzFucYZ3"
   },
   "outputs": [],
   "source": [
    "from sklearn.linear_model import Lasso\n",
    "clf = Lasso()"
   ]
  },
  {
   "cell_type": "markdown",
   "metadata": {
    "id": "BO7gNyPxdVBm"
   },
   "source": [
    "Next, we call the method `.fit()` on the instance `clf` of the class `Lasso` to fit a regression model to some arbitrary data points."
   ]
  },
  {
   "cell_type": "code",
   "execution_count": 71,
   "metadata": {
    "colab": {
     "base_uri": "https://localhost:8080/"
    },
    "executionInfo": {
     "elapsed": 141,
     "status": "ok",
     "timestamp": 1649899738934,
     "user": {
      "displayName": "Daniel Mendelevitch",
      "userId": "04173565869597277198"
     },
     "user_tz": 420
    },
    "id": "P0msGu5rdkw3",
    "outputId": "fb87e9c5-f00c-43fc-cbed-45293cf571ff"
   },
   "outputs": [
    {
     "data": {
      "text/plain": [
       "Lasso()"
      ]
     },
     "execution_count": 71,
     "metadata": {},
     "output_type": "execute_result"
    }
   ],
   "source": [
    "clf.fit([[1,4], [2,6], [6,6], [7,10]], [1,2,6,7])"
   ]
  },
  {
   "cell_type": "markdown",
   "metadata": {
    "id": "J-nNAlGgfJ3-"
   },
   "source": [
    "We can then extract the model's coefficients, which are stored as attributes of `clf`."
   ]
  },
  {
   "cell_type": "code",
   "execution_count": 72,
   "metadata": {
    "colab": {
     "base_uri": "https://localhost:8080/"
    },
    "executionInfo": {
     "elapsed": 226,
     "status": "ok",
     "timestamp": 1649899741266,
     "user": {
      "displayName": "Daniel Mendelevitch",
      "userId": "04173565869597277198"
     },
     "user_tz": 420
    },
    "id": "j9Vbc4l0fQy_",
    "outputId": "4ebc666c-142b-4ddc-e0dc-eff1404701f9"
   },
   "outputs": [
    {
     "name": "stdout",
     "output_type": "stream",
     "text": [
      "[0.84615385 0.        ]\n"
     ]
    }
   ],
   "source": [
    "print(clf.coef_)"
   ]
  },
  {
   "cell_type": "code",
   "execution_count": 73,
   "metadata": {
    "colab": {
     "base_uri": "https://localhost:8080/"
    },
    "executionInfo": {
     "elapsed": 3,
     "status": "ok",
     "timestamp": 1649899741417,
     "user": {
      "displayName": "Daniel Mendelevitch",
      "userId": "04173565869597277198"
     },
     "user_tz": 420
    },
    "id": "UnAXDGo6fU-W",
    "outputId": "0d9b33eb-0c4a-4fe6-bc74-7ca6ca55f061"
   },
   "outputs": [
    {
     "name": "stdout",
     "output_type": "stream",
     "text": [
      "0.6153846153846154\n"
     ]
    }
   ],
   "source": [
    "print(clf.intercept_)"
   ]
  },
  {
   "cell_type": "markdown",
   "metadata": {
    "id": "2O3Eae5aeXaf"
   },
   "source": [
    "Don't worry--you don't need to understand the specifics of this yet. However, this illustrates just how important classes will be in your exploration of data science."
   ]
  },
  {
   "cell_type": "markdown",
   "metadata": {
    "id": "IY3nGCnKMQV3"
   },
   "source": [
    "## Jupyter Notebook"
   ]
  },
  {
   "cell_type": "markdown",
   "metadata": {
    "id": "b1MluOvwczFS"
   },
   "source": [
    "### How familiar are you with Jupyter Notebook? \n",
    "\n",
    "a. I have it up and running already! \n",
    "\n",
    "b. I tried to install it, but I still have some questions.\n",
    "\n",
    "c. I've got no clue what to do and I wouldn't mind some help. "
   ]
  },
  {
   "cell_type": "markdown",
   "metadata": {
    "id": "O9trj8vPhGqc"
   },
   "source": [
    "### A quick demonstration of Anaconda & Jupyter Notebook\n",
    "\n",
    "\n",
    "1.   Open the Anaconda Navigator\n",
    "2.   Scroll down and launch Jupyter Notebook\n",
    "3.   A webpage should automatically pop up with many folders\n",
    "4.   For example, if you downloaded the notebook we posted earlier in Slack, you should be able to find it under the Downloads folder (or whichever folder you saved it in)\n",
    "5.   By double clicking on the .ipynb file, you can follow along within the Jupyter notebook in the browser\n",
    "\n",
    "Here's a 30-minute introduction to Jupyter Notebook: https://youtu.be/HW29067qVWk\n",
    "\n",
    "\n",
    "\n",
    "\n",
    "\n"
   ]
  },
  {
   "cell_type": "markdown",
   "metadata": {
    "id": "YoEp5nB9eP5g"
   },
   "source": [
    "### Basic Short Cuts in Jupyter Notebook\n",
    "\n",
    "* Run cell: `Ctrl + Enter`\n",
    "* Run cell & select below: `Shift + Enter`\n",
    "* Run cell & insert below: `Option + Enter` (mac); `Alt + Enter` (windows)\n",
    "\n",
    "### Essential Short Cuts for Fast Workflow\n",
    "\n",
    "Understand the difference between **edit** and **command** mode.\n",
    "*   Activate Edit Mode: Click on a cell or Press `Enter`\n",
    "*   Activate Command Mode: `Esc`\n",
    "\n",
    "Requires Command Mode:\n",
    "* Add a cell above the current cell: `a`\n",
    "* Add a cell below the current cell: `b`\n",
    "* Delete the current cell: `dd`\n",
    "* Markdown (to type text): `m`\n",
    "* Cut cell: `x`\n",
    "* Copy cell: `c`\n",
    "* Paste cell: `p`\n",
    "\n",
    "\n",
    "\n",
    "\n",
    "\n"
   ]
  },
  {
   "cell_type": "markdown",
   "metadata": {
    "id": "bZ4ROwChYPqy"
   },
   "source": [
    "# Anonymous feedback"
   ]
  },
  {
   "cell_type": "markdown",
   "metadata": {
    "id": "XguMyynDYRsc"
   },
   "source": [
    "If you have any feedback for us, please let us know! The feedback form is completely anonymous, and we promise we'll take your suggestions into consideration for future meetings: https://forms.gle/eve5noVB9ccXbomM7"
   ]
  },
  {
   "cell_type": "markdown",
   "metadata": {
    "id": "CdzkrJIWhJyH"
   },
   "source": [
    "# References"
   ]
  },
  {
   "cell_type": "markdown",
   "metadata": {
    "id": "YrlH0-VXhNby"
   },
   "source": [
    "Throughout the quarter, we will mainly be drawing our material from the following sources. Most of your learning will be done through trial and error, so we strongly encourage you to experiment by running code that you write from scratch!\n",
    "\n",
    "For basic Python:\n",
    "* The Python Tutorial: https://docs.python.org/3/tutorial/\n",
    "* Basics of Python 3: https://www.learnpython.org/\n",
    "* CodeAcademy Python 3 Course: https://www.codecademy.com/learn/learn-python-3\n",
    "\n",
    "And for the rest of the quarter:\n",
    "* Introducing Data Science: http://bedford-computing.co.uk/learning/wp-content/uploads/2016/09/introducing-data-science-machine-learning-python.pdf \n",
    "* Python for Data Analysis: http://bedford-computing.co.uk/learning/wp-content/uploads/2015/10/Python-for-Data-Analysis.pdf \n",
    "* Pandas user guide: https://pandas.pydata.org/pandas-docs/stable/user_guide/index.html \n",
    "* Sklearn user guide: https://scikit-learn.org/stable/user_guide.html "
   ]
  },
  {
   "cell_type": "markdown",
   "metadata": {
    "id": "XhY08MhDB1fX"
   },
   "source": [
    "# Credits"
   ]
  },
  {
   "cell_type": "markdown",
   "metadata": {
    "id": "5OZ_PRQyB4j0"
   },
   "source": [
    "Primary Contributors:\n",
    "* Daniel Mendelevitch\n",
    "* Nick Monozon\n",
    "\n"
   ]
  },
  {
   "cell_type": "markdown",
   "metadata": {
    "id": "ZbMzftIUXQKd"
   },
   "source": [
    "Secondary Contributors:\n",
    "*   Sean Tjoa\n",
    "*   Tristan Dewing\n",
    "*   Andy Chen\n",
    "*   Emily Gong\n",
    "*   Tara Jaigopal\n",
    "\n"
   ]
  }
 ],
 "metadata": {
  "colab": {
   "collapsed_sections": [],
   "name": "Lesson 1: Introduction to Python and OOP.ipynb",
   "provenance": [
    {
     "file_id": "1QZgclT5cnfMFmkNqYxpLoabnkF3lUaH6",
     "timestamp": 1648943247658
    }
   ]
  },
  "kernelspec": {
   "display_name": "Python 3",
   "language": "python",
   "name": "python3"
  },
  "language_info": {
   "codemirror_mode": {
    "name": "ipython",
    "version": 3
   },
   "file_extension": ".py",
   "mimetype": "text/x-python",
   "name": "python",
   "nbconvert_exporter": "python",
   "pygments_lexer": "ipython3",
   "version": "3.8.6"
  }
 },
 "nbformat": 4,
 "nbformat_minor": 4
}
